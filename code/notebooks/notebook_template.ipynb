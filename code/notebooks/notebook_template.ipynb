{
 "cells": [
  {
   "cell_type": "markdown",
   "id": "7fd6dfac-9aa5-40bf-ba35-e9e3ddb3bc73",
   "metadata": {},
   "source": [
    "# project name"
   ]
  },
  {
   "cell_type": "markdown",
   "id": "1947245b-5826-44c9-8fde-414a2c760ef7",
   "metadata": {},
   "source": [
    "Author: Luke McGrane\n",
    "Last Modified 11-13-2024\n",
    "\n",
    "Description"
   ]
  },
  {
   "cell_type": "code",
   "execution_count": 3,
   "id": "f6b15767-fdc8-464c-998a-78a7677e8756",
   "metadata": {},
   "outputs": [
    {
     "ename": "SyntaxError",
     "evalue": "invalid syntax (3271659196.py, line 1)",
     "output_type": "error",
     "traceback": [
      "\u001b[1;36m  Cell \u001b[1;32mIn[3], line 1\u001b[1;36m\u001b[0m\n\u001b[1;33m    <br>\u001b[0m\n\u001b[1;37m    ^\u001b[0m\n\u001b[1;31mSyntaxError\u001b[0m\u001b[1;31m:\u001b[0m invalid syntax\n"
     ]
    }
   ],
   "source": [
    "<br>"
   ]
  },
  {
   "cell_type": "markdown",
   "id": "debd2353-5271-46e5-a1df-40e1d5b03af3",
   "metadata": {},
   "source": [
    "Import Libraries"
   ]
  },
  {
   "cell_type": "code",
   "execution_count": null,
   "id": "a78ebdd0-ecb6-4ac8-b5bd-12756d4f51a3",
   "metadata": {},
   "outputs": [],
   "source": [
    "import pandas as pd"
   ]
  },
  {
   "cell_type": "code",
   "execution_count": null,
   "id": "25117a75-1cc6-4628-96a8-a166af1cba15",
   "metadata": {},
   "outputs": [],
   "source": [
    "<br>"
   ]
  },
  {
   "cell_type": "markdown",
   "id": "4d6d8716-8036-4447-b02b-df00047e6590",
   "metadata": {},
   "source": [
    "Load Data"
   ]
  },
  {
   "cell_type": "code",
   "execution_count": null,
   "id": "fe02d2a3-c717-4a3f-82a5-3d523e3c5ed9",
   "metadata": {},
   "outputs": [],
   "source": []
  }
 ],
 "metadata": {
  "kernelspec": {
   "display_name": "Python 3 (ipykernel)",
   "language": "python",
   "name": "python3"
  },
  "language_info": {
   "codemirror_mode": {
    "name": "ipython",
    "version": 3
   },
   "file_extension": ".py",
   "mimetype": "text/x-python",
   "name": "python",
   "nbconvert_exporter": "python",
   "pygments_lexer": "ipython3",
   "version": "3.12.4"
  }
 },
 "nbformat": 4,
 "nbformat_minor": 5
}
